version https://git-lfs.github.com/spec/v1
oid sha256:f1bd481ac484a169ba6b4bce10ad737a1a133c7db310abd3a3b984c53348398a
size 69376
