version https://git-lfs.github.com/spec/v1
oid sha256:2cfcad8cfa1539ce5ee83cd511f42ab1be11d4746bd52df90242ccb523fa0fe4
size 26892
